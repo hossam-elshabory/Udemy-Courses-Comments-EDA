{
 "cells": [
  {
   "cell_type": "markdown",
   "id": "1869d1d3",
   "metadata": {
    "id": "gNjtp85_lsfQ",
    "papermill": {
     "duration": 0.016215,
     "end_time": "2023-06-13T16:36:52.754109",
     "exception": false,
     "start_time": "2023-06-13T16:36:52.737894",
     "status": "completed"
    },
    "tags": []
   },
   "source": [
    "<h1 align=\"center\">💻 Udemy Courses | EDA 📊</h1>\n",
    "\n",
    "<div style=\"text-align:center;\">\n",
    "    <img src=\"https://i.imgur.com/WTRbuuV.jpg\" alt=\"project-banner\">\n",
    "</div>"
   ]
  },
  {
   "cell_type": "markdown",
   "id": "5093bb31",
   "metadata": {
    "id": "QDyHEbO8mXZh",
    "papermill": {
     "duration": 0.015556,
     "end_time": "2023-06-13T16:36:52.786216",
     "exception": false,
     "start_time": "2023-06-13T16:36:52.770660",
     "status": "completed"
    },
    "tags": []
   },
   "source": [
    "# Introduction \n",
    "\n",
    "Udemy is a leading online learning platform that offers a vast collection of courses covering a wide range of topics. With its user-friendly interface and accessibility, Udemy has revolutionized the way people learn by providing a platform for both learners and instructors to connect from around the globe. \n",
    "\n",
    "Learners can explore a diverse selection of courses, including programming, business, arts, personal development, and more, while instructors can share their knowledge and expertise with a global audience. Whether you're looking to enhance your skills, pursue a new hobby, or advance your career, Udemy.com provides an accessible and flexible learning experience for individuals of all backgrounds and interests.\n",
    "\n",
    "### In this project,\n",
    "\n",
    "We will be exploring a dataset of of over 209,734 courses and 73,514 instructors teaching courses in 79 languages in 13 different categories. \n",
    "\n",
    "\n",
    "We will be analyzing this dataset to gain insights into various aspects of courses , including :\n",
    "\n",
    "- The Popularity of Categories and Subcategories.\n",
    "\n",
    "- Pricing Analysis.\n",
    "\n",
    "- Instructor Performance Analysis.\n",
    "\n",
    "- Time Analysis.\n",
    "\n",
    "\n",
    "# [Data Source](https://www.kaggle.com/datasets/hossaingh/udemy-courses)\n",
    "\n",
    "The provided dataset contains a comprehensive collection of information from Udemy courses and user comments. With a total of 209,734 entries and 20 columns, this dataset offers valuable insights into various aspects of online learning. The columns encompass a wide range of data types, including floating-point numbers, boolean values, and textual information. \n",
    "\n",
    "Key columns include details such as course titles, pricing information, number of subscribers, ratings, reviews, comments, and instructor profiles. Additionally, the dataset provides information about the course content length, publication and update dates, category, subcategory, topic, language, and links to course and instructor pages."
   ]
  },
  {
   "cell_type": "markdown",
   "id": "f349a01c",
   "metadata": {
    "papermill": {
     "duration": 0.015486,
     "end_time": "2023-06-13T16:36:52.817562",
     "exception": false,
     "start_time": "2023-06-13T16:36:52.802076",
     "status": "completed"
    },
    "tags": []
   },
   "source": [
    "---"
   ]
  },
  {
   "cell_type": "markdown",
   "id": "fb502940",
   "metadata": {
    "id": "x4XyKOiimf8o",
    "papermill": {
     "duration": 0.015734,
     "end_time": "2023-06-13T16:36:52.848995",
     "exception": false,
     "start_time": "2023-06-13T16:36:52.833261",
     "status": "completed"
    },
    "tags": []
   },
   "source": [
    "# Importing and Setting Up Libraries"
   ]
  },
  {
   "cell_type": "code",
   "execution_count": 1,
   "id": "9a4cc24b",
   "metadata": {
    "_kg_hide-input": true,
    "execution": {
     "iopub.execute_input": "2023-06-13T16:36:52.882266Z",
     "iopub.status.busy": "2023-06-13T16:36:52.881894Z",
     "iopub.status.idle": "2023-06-13T16:36:54.388745Z",
     "shell.execute_reply": "2023-06-13T16:36:54.387478Z"
    },
    "id": "2YkpX1L3ms2j",
    "papermill": {
     "duration": 1.5271,
     "end_time": "2023-06-13T16:36:54.391708",
     "exception": false,
     "start_time": "2023-06-13T16:36:52.864608",
     "status": "completed"
    },
    "tags": []
   },
   "outputs": [],
   "source": [
    "# Importing pandas for data analysis and manipulation\n",
    "import pandas as pd              \n",
    "# Importing numpy for numerical computations\n",
    "import numpy as np               \n",
    "# Importing seaborn for data visualization\n",
    "import seaborn as sns            \n",
    "# Importing pyplot from matplotlib for data visualization\n",
    "import matplotlib.pyplot as plt  \n",
    "# Importing pyplot from matplotlib.dates for dates manipulation\n",
    "import matplotlib.dates as mdates\n",
    "# Importing tqdm for progress bars in loops\n",
    "from tqdm.notebook import tqdm   \n",
    "\n",
    "# Importing warnings module to handle warning messages\n",
    "import warnings                 \n",
    "\n",
    "# Setting the max columns to be shown by pandas to 500\n",
    "pd.options.display.max_columns = 500\n",
    "\n",
    "# Showing the full content of columns\n",
    "pd.set_option(\"display.max_colwidth\", None)\n",
    "\n",
    "# Set the float format to display numbers with two decimal places\n",
    "pd.options.display.float_format = '{:.0f}'.format\n",
    "\n",
    "# To ignore all warnings generated by the program\n",
    "warnings.filterwarnings(\"ignore\")  \n",
    "# Setting seaborn style to white\n",
    "sns.set_style(\"white\")            "
   ]
  },
  {
   "cell_type": "markdown",
   "id": "2058ca16",
   "metadata": {
    "id": "YGgCfEiJmXkW",
    "papermill": {
     "duration": 0.016316,
     "end_time": "2023-06-13T16:36:54.424220",
     "exception": false,
     "start_time": "2023-06-13T16:36:54.407904",
     "status": "completed"
    },
    "tags": []
   },
   "source": [
    "# Loading in the data and inspecting the data"
   ]
  },
  {
   "cell_type": "code",
   "execution_count": 2,
   "id": "a7fb1892",
   "metadata": {
    "execution": {
     "iopub.execute_input": "2023-06-13T16:36:54.458205Z",
     "iopub.status.busy": "2023-06-13T16:36:54.457789Z",
     "iopub.status.idle": "2023-06-13T16:36:58.050337Z",
     "shell.execute_reply": "2023-06-13T16:36:58.049043Z"
    },
    "id": "VgKfvtUaliW0",
    "papermill": {
     "duration": 3.61307,
     "end_time": "2023-06-13T16:36:58.053202",
     "exception": false,
     "start_time": "2023-06-13T16:36:54.440132",
     "status": "completed"
    },
    "tags": []
   },
   "outputs": [],
   "source": [
    "# Reading in the Courses_info data\n",
    "df_courses = pd.read_csv(\"/kaggle/input/udemy-courses/Course_info.csv\")"
   ]
  },
  {
   "cell_type": "code",
   "execution_count": 3,
   "id": "9759b9e5",
   "metadata": {
    "execution": {
     "iopub.execute_input": "2023-06-13T16:36:58.087173Z",
     "iopub.status.busy": "2023-06-13T16:36:58.086716Z",
     "iopub.status.idle": "2023-06-13T16:36:58.137203Z",
     "shell.execute_reply": "2023-06-13T16:36:58.136324Z"
    },
    "id": "ueT9PHfVmnSA",
    "papermill": {
     "duration": 0.070176,
     "end_time": "2023-06-13T16:36:58.139806",
     "exception": false,
     "start_time": "2023-06-13T16:36:58.069630",
     "status": "completed"
    },
    "tags": []
   },
   "outputs": [
    {
     "data": {
      "text/html": [
       "<div>\n",
       "<style scoped>\n",
       "    .dataframe tbody tr th:only-of-type {\n",
       "        vertical-align: middle;\n",
       "    }\n",
       "\n",
       "    .dataframe tbody tr th {\n",
       "        vertical-align: top;\n",
       "    }\n",
       "\n",
       "    .dataframe thead th {\n",
       "        text-align: right;\n",
       "    }\n",
       "</style>\n",
       "<table border=\"1\" class=\"dataframe\">\n",
       "  <thead>\n",
       "    <tr style=\"text-align: right;\">\n",
       "      <th></th>\n",
       "      <th>id</th>\n",
       "      <th>title</th>\n",
       "      <th>is_paid</th>\n",
       "      <th>price</th>\n",
       "      <th>headline</th>\n",
       "      <th>num_subscribers</th>\n",
       "      <th>avg_rating</th>\n",
       "      <th>num_reviews</th>\n",
       "      <th>num_comments</th>\n",
       "      <th>num_lectures</th>\n",
       "      <th>content_length_min</th>\n",
       "      <th>published_time</th>\n",
       "      <th>last_update_date</th>\n",
       "      <th>category</th>\n",
       "      <th>subcategory</th>\n",
       "      <th>topic</th>\n",
       "      <th>language</th>\n",
       "      <th>course_url</th>\n",
       "      <th>instructor_name</th>\n",
       "      <th>instructor_url</th>\n",
       "    </tr>\n",
       "  </thead>\n",
       "  <tbody>\n",
       "    <tr>\n",
       "      <th>63148</th>\n",
       "      <td>2281400</td>\n",
       "      <td>AQUA INK.Teil 1 Faszination flüssige Aquarell Farben.</td>\n",
       "      <td>True</td>\n",
       "      <td>130</td>\n",
       "      <td>Leuchtend strahlende Farben. Ungewöhnliche Farbkompositionen und Effekte. Erlernen von  faszinierende Technik</td>\n",
       "      <td>93</td>\n",
       "      <td>5</td>\n",
       "      <td>11</td>\n",
       "      <td>3</td>\n",
       "      <td>14</td>\n",
       "      <td>127</td>\n",
       "      <td>2019-03-24T20:19:45Z</td>\n",
       "      <td>2019-03-24</td>\n",
       "      <td>Lifestyle</td>\n",
       "      <td>Arts &amp; Crafts</td>\n",
       "      <td>Abstract Painting</td>\n",
       "      <td>German</td>\n",
       "      <td>/course/aqua-ink-faszination-flussige-aquarell-farben-teil-1/</td>\n",
       "      <td>Inna Pavlecka-Tumarkin</td>\n",
       "      <td>/user/inna-pavlecka/</td>\n",
       "    </tr>\n",
       "    <tr>\n",
       "      <th>61556</th>\n",
       "      <td>2235932</td>\n",
       "      <td>Gann Box Trading Ninja: Advance DIY Technical Analysis tool</td>\n",
       "      <td>True</td>\n",
       "      <td>200</td>\n",
       "      <td>Gann Box Trading System - Learn How to Use Technical Analysis For Stock Trading, Day trading or even swing Trading.</td>\n",
       "      <td>8925</td>\n",
       "      <td>4</td>\n",
       "      <td>67</td>\n",
       "      <td>12</td>\n",
       "      <td>18</td>\n",
       "      <td>121</td>\n",
       "      <td>2019-03-12T21:30:45Z</td>\n",
       "      <td>2022-10-03</td>\n",
       "      <td>Finance &amp; Accounting</td>\n",
       "      <td>Investing &amp; Trading</td>\n",
       "      <td>Technical Analysis (finance)</td>\n",
       "      <td>English</td>\n",
       "      <td>/course/gann-box/</td>\n",
       "      <td>Saad T. Hameed (STH) • 0.33+ Million Enrollments Worldwide</td>\n",
       "      <td>/user/saad-tariq-9/</td>\n",
       "    </tr>\n",
       "  </tbody>\n",
       "</table>\n",
       "</div>"
      ],
      "text/plain": [
       "           id                                                        title  \\\n",
       "63148 2281400        AQUA INK.Teil 1 Faszination flüssige Aquarell Farben.   \n",
       "61556 2235932  Gann Box Trading Ninja: Advance DIY Technical Analysis tool   \n",
       "\n",
       "       is_paid  price  \\\n",
       "63148     True    130   \n",
       "61556     True    200   \n",
       "\n",
       "                                                                                                                  headline  \\\n",
       "63148        Leuchtend strahlende Farben. Ungewöhnliche Farbkompositionen und Effekte. Erlernen von  faszinierende Technik   \n",
       "61556  Gann Box Trading System - Learn How to Use Technical Analysis For Stock Trading, Day trading or even swing Trading.   \n",
       "\n",
       "       num_subscribers  avg_rating  num_reviews  num_comments  num_lectures  \\\n",
       "63148               93           5           11             3            14   \n",
       "61556             8925           4           67            12            18   \n",
       "\n",
       "       content_length_min        published_time last_update_date  \\\n",
       "63148                 127  2019-03-24T20:19:45Z       2019-03-24   \n",
       "61556                 121  2019-03-12T21:30:45Z       2022-10-03   \n",
       "\n",
       "                   category          subcategory  \\\n",
       "63148             Lifestyle        Arts & Crafts   \n",
       "61556  Finance & Accounting  Investing & Trading   \n",
       "\n",
       "                              topic language  \\\n",
       "63148             Abstract Painting   German   \n",
       "61556  Technical Analysis (finance)  English   \n",
       "\n",
       "                                                          course_url  \\\n",
       "63148  /course/aqua-ink-faszination-flussige-aquarell-farben-teil-1/   \n",
       "61556                                              /course/gann-box/   \n",
       "\n",
       "                                                  instructor_name  \\\n",
       "63148                                      Inna Pavlecka-Tumarkin   \n",
       "61556  Saad T. Hameed (STH) • 0.33+ Million Enrollments Worldwide   \n",
       "\n",
       "             instructor_url  \n",
       "63148  /user/inna-pavlecka/  \n",
       "61556   /user/saad-tariq-9/  "
      ]
     },
     "execution_count": 3,
     "metadata": {},
     "output_type": "execute_result"
    }
   ],
   "source": [
    "# Taking a look at a sample from the courses dataset\n",
    "df_courses.sample(2)"
   ]
  },
  {
   "cell_type": "code",
   "execution_count": 4,
   "id": "37492dd1",
   "metadata": {
    "execution": {
     "iopub.execute_input": "2023-06-13T16:36:58.175139Z",
     "iopub.status.busy": "2023-06-13T16:36:58.174135Z",
     "iopub.status.idle": "2023-06-13T16:36:58.181135Z",
     "shell.execute_reply": "2023-06-13T16:36:58.179844Z"
    },
    "papermill": {
     "duration": 0.027828,
     "end_time": "2023-06-13T16:36:58.184024",
     "exception": false,
     "start_time": "2023-06-13T16:36:58.156196",
     "status": "completed"
    },
    "tags": []
   },
   "outputs": [
    {
     "name": "stdout",
     "output_type": "stream",
     "text": [
      "id\n",
      "title\n",
      "is_paid\n",
      "price\n",
      "headline\n",
      "num_subscribers\n",
      "avg_rating\n",
      "num_reviews\n",
      "num_comments\n",
      "num_lectures\n",
      "content_length_min\n",
      "published_time\n",
      "last_update_date\n",
      "category\n",
      "subcategory\n",
      "topic\n",
      "language\n",
      "course_url\n",
      "instructor_name\n",
      "instructor_url\n"
     ]
    }
   ],
   "source": [
    "# Printing the `df_courses` columns \n",
    "for col in df_courses.columns.to_list():\n",
    "    print(col)"
   ]
  },
  {
   "cell_type": "code",
   "execution_count": 5,
   "id": "a7e2a7aa",
   "metadata": {
    "execution": {
     "iopub.execute_input": "2023-06-13T16:36:58.220000Z",
     "iopub.status.busy": "2023-06-13T16:36:58.219509Z",
     "iopub.status.idle": "2023-06-13T16:36:58.960400Z",
     "shell.execute_reply": "2023-06-13T16:36:58.958844Z"
    },
    "papermill": {
     "duration": 0.7621,
     "end_time": "2023-06-13T16:36:58.963326",
     "exception": false,
     "start_time": "2023-06-13T16:36:58.201226",
     "status": "completed"
    },
    "tags": []
   },
   "outputs": [
    {
     "name": "stdout",
     "output_type": "stream",
     "text": [
      "<class 'pandas.core.frame.DataFrame'>\n",
      "RangeIndex: 209734 entries, 0 to 209733\n",
      "Data columns (total 20 columns):\n",
      " #   Column              Non-Null Count   Dtype  \n",
      "---  ------              --------------   -----  \n",
      " 0   id                  209734 non-null  float64\n",
      " 1   title               209734 non-null  object \n",
      " 2   is_paid             209734 non-null  bool   \n",
      " 3   price               209734 non-null  float64\n",
      " 4   headline            209707 non-null  object \n",
      " 5   num_subscribers     209734 non-null  float64\n",
      " 6   avg_rating          209734 non-null  float64\n",
      " 7   num_reviews         209734 non-null  float64\n",
      " 8   num_comments        209734 non-null  float64\n",
      " 9   num_lectures        209734 non-null  float64\n",
      " 10  content_length_min  209734 non-null  float64\n",
      " 11  published_time      209734 non-null  object \n",
      " 12  last_update_date    209597 non-null  object \n",
      " 13  category            209734 non-null  object \n",
      " 14  subcategory         209734 non-null  object \n",
      " 15  topic               208776 non-null  object \n",
      " 16  language            209734 non-null  object \n",
      " 17  course_url          209734 non-null  object \n",
      " 18  instructor_name     209729 non-null  object \n",
      " 19  instructor_url      209307 non-null  object \n",
      "dtypes: bool(1), float64(8), object(11)\n",
      "memory usage: 30.6+ MB\n"
     ]
    }
   ],
   "source": [
    "# Printing the dataset metadata\n",
    "df_courses.info()"
   ]
  },
  {
   "cell_type": "markdown",
   "id": "dfa8aeef",
   "metadata": {
    "papermill": {
     "duration": 0.016112,
     "end_time": "2023-06-13T16:36:58.996555",
     "exception": false,
     "start_time": "2023-06-13T16:36:58.980443",
     "status": "completed"
    },
    "tags": []
   },
   "source": [
    "### Checking for duplicate and null values"
   ]
  },
  {
   "cell_type": "code",
   "execution_count": 6,
   "id": "338e1f2d",
   "metadata": {
    "execution": {
     "iopub.execute_input": "2023-06-13T16:36:59.031502Z",
     "iopub.status.busy": "2023-06-13T16:36:59.030682Z",
     "iopub.status.idle": "2023-06-13T16:36:59.765640Z",
     "shell.execute_reply": "2023-06-13T16:36:59.764419Z"
    },
    "papermill": {
     "duration": 0.755164,
     "end_time": "2023-06-13T16:36:59.768145",
     "exception": false,
     "start_time": "2023-06-13T16:36:59.012981",
     "status": "completed"
    },
    "tags": []
   },
   "outputs": [
    {
     "name": "stdout",
     "output_type": "stream",
     "text": [
      "There are 0 duplicate values in the dataset\n"
     ]
    }
   ],
   "source": [
    "# Printing the number of duplicate values\n",
    "dup_count = df_courses.duplicated().sum()\n",
    "\n",
    "print(f\"There are {dup_count} duplicate values in the dataset\")"
   ]
  },
  {
   "cell_type": "code",
   "execution_count": 7,
   "id": "de654f06",
   "metadata": {
    "execution": {
     "iopub.execute_input": "2023-06-13T16:36:59.806749Z",
     "iopub.status.busy": "2023-06-13T16:36:59.805516Z",
     "iopub.status.idle": "2023-06-13T16:37:00.525350Z",
     "shell.execute_reply": "2023-06-13T16:37:00.524218Z"
    },
    "papermill": {
     "duration": 0.74319,
     "end_time": "2023-06-13T16:37:00.528120",
     "exception": false,
     "start_time": "2023-06-13T16:36:59.784930",
     "status": "completed"
    },
    "tags": []
   },
   "outputs": [
    {
     "data": {
      "text/plain": [
       "headline             27\n",
       "last_update_date    137\n",
       "topic               958\n",
       "instructor_name       5\n",
       "instructor_url      427\n",
       "dtype: int64"
      ]
     },
     "execution_count": 7,
     "metadata": {},
     "output_type": "execute_result"
    }
   ],
   "source": [
    "# Printing the number of null values\n",
    "null_count = df_courses.isnull().sum()\n",
    "\n",
    "# Filtering out columns that ONLY has NUll values \n",
    "null_count[null_count != 0]"
   ]
  },
  {
   "cell_type": "markdown",
   "id": "5073a912",
   "metadata": {
    "papermill": {
     "duration": 0.01632,
     "end_time": "2023-06-13T16:37:00.561229",
     "exception": false,
     "start_time": "2023-06-13T16:37:00.544909",
     "status": "completed"
    },
    "tags": []
   },
   "source": [
    "## Observations For Data Cleaning and Preprocessing :\n",
    "---\n",
    "\n",
    "1. The `course_url`, `Topic`, `headline`, `last_update_date` and `instructor_url` are irrelevant columns to the analysis and should be removed.\n",
    "\n",
    "2. Data type changes :\n",
    "\n",
    "<table align=\"left\">\n",
    "  <thead>\n",
    "    <tr>\n",
    "      <th>Column</th>\n",
    "      <th>New Datatype</th>\n",
    "    </tr>\n",
    "  </thead>\n",
    "  <tbody>\n",
    "    <tr>\n",
    "      <td>id</td>\n",
    "      <td>int64</td>\n",
    "    </tr>\n",
    "    <tr>\n",
    "      <td>price</td>\n",
    "      <td>float32</td>\n",
    "    </tr>\n",
    "    <tr>\n",
    "      <td>num_subscribers</td>\n",
    "      <td>int32</td>\n",
    "    </tr>\n",
    "    <tr>\n",
    "      <td>avg_rating</td>\n",
    "      <td>int32</td>\n",
    "    </tr>\n",
    "    <tr>\n",
    "      <td>num_reviews</td>\n",
    "      <td>int32</td>\n",
    "    </tr>\n",
    "    <tr>\n",
    "      <td>num_comments</td>\n",
    "      <td>int32</td>\n",
    "    </tr>\n",
    "    <tr>\n",
    "      <td>num_lectures</td>\n",
    "      <td>int32</td>\n",
    "    </tr>\n",
    "    <tr>\n",
    "      <td>content_length_min</td>\n",
    "      <td>int32</td>\n",
    "    </tr>\n",
    "    <tr>\n",
    "      <td>published_time</td>\n",
    "      <td>datetime64[ns]</td>\n",
    "    </tr>\n",
    "  </tbody>\n",
    "</table>\n"
   ]
  },
  {
   "cell_type": "markdown",
   "id": "418c1969",
   "metadata": {
    "papermill": {
     "duration": 0.016174,
     "end_time": "2023-06-13T16:37:00.594018",
     "exception": false,
     "start_time": "2023-06-13T16:37:00.577844",
     "status": "completed"
    },
    "tags": []
   },
   "source": [
    "---"
   ]
  },
  {
   "cell_type": "markdown",
   "id": "626c9041",
   "metadata": {
    "id": "Gp0rQV2pmma5",
    "papermill": {
     "duration": 0.016292,
     "end_time": "2023-06-13T16:37:00.626930",
     "exception": false,
     "start_time": "2023-06-13T16:37:00.610638",
     "status": "completed"
    },
    "tags": []
   },
   "source": [
    "# Data Cleaning and Preprocessing"
   ]
  },
  {
   "cell_type": "markdown",
   "id": "6f4d74e1",
   "metadata": {
    "papermill": {
     "duration": 0.016197,
     "end_time": "2023-06-13T16:37:00.659587",
     "exception": false,
     "start_time": "2023-06-13T16:37:00.643390",
     "status": "completed"
    },
    "tags": []
   },
   "source": [
    "### Dropping irrelevant columns"
   ]
  },
  {
   "cell_type": "code",
   "execution_count": 8,
   "id": "86b79c16",
   "metadata": {
    "execution": {
     "iopub.execute_input": "2023-06-13T16:37:00.694662Z",
     "iopub.status.busy": "2023-06-13T16:37:00.694282Z",
     "iopub.status.idle": "2023-06-13T16:37:00.754965Z",
     "shell.execute_reply": "2023-06-13T16:37:00.753766Z"
    },
    "papermill": {
     "duration": 0.081719,
     "end_time": "2023-06-13T16:37:00.757822",
     "exception": false,
     "start_time": "2023-06-13T16:37:00.676103",
     "status": "completed"
    },
    "tags": []
   },
   "outputs": [],
   "source": [
    "# Dropping irrelevant columns\n",
    "cols_to_drop = [\"last_update_date\", \"topic\", \"course_url\", \"instructor_url\"]\n",
    "\n",
    "df_courses.drop(cols_to_drop, axis=1, inplace=True)"
   ]
  },
  {
   "cell_type": "markdown",
   "id": "ca441b4f",
   "metadata": {
    "papermill": {
     "duration": 0.016457,
     "end_time": "2023-06-13T16:37:00.791124",
     "exception": false,
     "start_time": "2023-06-13T16:37:00.774667",
     "status": "completed"
    },
    "tags": []
   },
   "source": [
    "### Changing datatypes\n",
    "\n",
    "- #### Resources :\n",
    "\n",
    "    - [Using int32 datatype to save memory.](https://stackoverflow.com/questions/66736117/what-the-difference-between-int32-and-int64)\n"
   ]
  },
  {
   "cell_type": "code",
   "execution_count": 9,
   "id": "1ccc3567",
   "metadata": {
    "execution": {
     "iopub.execute_input": "2023-06-13T16:37:00.826785Z",
     "iopub.status.busy": "2023-06-13T16:37:00.826113Z",
     "iopub.status.idle": "2023-06-13T16:37:01.042402Z",
     "shell.execute_reply": "2023-06-13T16:37:01.041498Z"
    },
    "papermill": {
     "duration": 0.237185,
     "end_time": "2023-06-13T16:37:01.045100",
     "exception": false,
     "start_time": "2023-06-13T16:37:00.807915",
     "status": "completed"
    },
    "tags": []
   },
   "outputs": [],
   "source": [
    "# Create a dictionary of datatypes.\n",
    "dtypes = {\n",
    "    \"id\": \"int64\",\n",
    "    \"price\": \"float32\",\n",
    "    \"num_subscribers\": \"int32\",\n",
    "    \"avg_rating\": \"int32\",\n",
    "    \"num_reviews\": \"int32\",\n",
    "    \"num_comments\": \"int32\",\n",
    "    \"num_lectures\": \"int32\",\n",
    "    \"content_length_min\": \"int32\",\n",
    "    \"published_time\": \"datetime64[ns]\",\n",
    "}\n",
    "\n",
    "# Use the `dtypes` dictionary to convert the datatypes of the columns in the `df` DataFrame.\n",
    "df_courses = df_courses.astype(dtypes)"
   ]
  },
  {
   "cell_type": "code",
   "execution_count": 10,
   "id": "32b3f408",
   "metadata": {
    "execution": {
     "iopub.execute_input": "2023-06-13T16:37:01.080245Z",
     "iopub.status.busy": "2023-06-13T16:37:01.079853Z",
     "iopub.status.idle": "2023-06-13T16:37:01.514453Z",
     "shell.execute_reply": "2023-06-13T16:37:01.513004Z"
    },
    "papermill": {
     "duration": 0.455557,
     "end_time": "2023-06-13T16:37:01.517359",
     "exception": false,
     "start_time": "2023-06-13T16:37:01.061802",
     "status": "completed"
    },
    "tags": []
   },
   "outputs": [
    {
     "name": "stdout",
     "output_type": "stream",
     "text": [
      "<class 'pandas.core.frame.DataFrame'>\n",
      "RangeIndex: 209734 entries, 0 to 209733\n",
      "Data columns (total 16 columns):\n",
      " #   Column              Non-Null Count   Dtype         \n",
      "---  ------              --------------   -----         \n",
      " 0   id                  209734 non-null  int64         \n",
      " 1   title               209734 non-null  object        \n",
      " 2   is_paid             209734 non-null  bool          \n",
      " 3   price               209734 non-null  float32       \n",
      " 4   headline            209707 non-null  object        \n",
      " 5   num_subscribers     209734 non-null  int32         \n",
      " 6   avg_rating          209734 non-null  int32         \n",
      " 7   num_reviews         209734 non-null  int32         \n",
      " 8   num_comments        209734 non-null  int32         \n",
      " 9   num_lectures        209734 non-null  int32         \n",
      " 10  content_length_min  209734 non-null  int32         \n",
      " 11  published_time      209734 non-null  datetime64[ns]\n",
      " 12  category            209734 non-null  object        \n",
      " 13  subcategory         209734 non-null  object        \n",
      " 14  language            209734 non-null  object        \n",
      " 15  instructor_name     209729 non-null  object        \n",
      "dtypes: bool(1), datetime64[ns](1), float32(1), int32(6), int64(1), object(6)\n",
      "memory usage: 18.6+ MB\n"
     ]
    }
   ],
   "source": [
    "# Cheacking the datatypes again:\n",
    "df_courses.info()"
   ]
  },
  {
   "cell_type": "markdown",
   "id": "79e68a98",
   "metadata": {
    "papermill": {
     "duration": 0.016459,
     "end_time": "2023-06-13T16:37:01.550595",
     "exception": false,
     "start_time": "2023-06-13T16:37:01.534136",
     "status": "completed"
    },
    "tags": []
   },
   "source": [
    ">Datatypes changed as expected and memory usage dropped to 18.6+ MB."
   ]
  },
  {
   "cell_type": "markdown",
   "id": "e43ca56c",
   "metadata": {
    "papermill": {
     "duration": 0.016408,
     "end_time": "2023-06-13T16:37:01.584155",
     "exception": false,
     "start_time": "2023-06-13T16:37:01.567747",
     "status": "completed"
    },
    "tags": []
   },
   "source": [
    "---"
   ]
  },
  {
   "cell_type": "markdown",
   "id": "fa991c38",
   "metadata": {
    "id": "F4DLc9c7mvR9",
    "papermill": {
     "duration": 0.016433,
     "end_time": "2023-06-13T16:37:01.617347",
     "exception": false,
     "start_time": "2023-06-13T16:37:01.600914",
     "status": "completed"
    },
    "tags": []
   },
   "source": [
    "# Exploratory Data Analysis (EDA)\n",
    "\n",
    "---\n",
    "\n",
    "1. What is the most Popular Categories and Subcategories?\n",
    "\n",
    "     1.1. What is the most Popular Course in each category?\n",
    "\n",
    "2. Pricing Analysis\n",
    "\n",
    "    2.1 What is the distribution of courses price?\n",
    "    \n",
    "    2.2. What is the percentage of courses that are priced below 200 dollars on Udemy?\n",
    "    \n",
    "3. Instructor Performance Analysis.\n",
    "    \n",
    "   3.1. Who are the top 5 most performing instructors according to the number of subscribers?\n",
    "   \n",
    "   3.2. Who are the topmost 5 experienced instructors in terms of (Courses published  on Udemy)?\n",
    "\n",
    "4. Time Analysis.\n",
    "\n",
    "    4.1 How was the growth of Subscribers over Time on Udemy?\n",
    "    \n",
    "    4.2 What was the year that had the most subsribers?"
   ]
  },
  {
   "cell_type": "markdown",
   "id": "476e7526",
   "metadata": {
    "papermill": {
     "duration": 0.01645,
     "end_time": "2023-06-13T16:37:01.650601",
     "exception": false,
     "start_time": "2023-06-13T16:37:01.634151",
     "status": "completed"
    },
    "tags": []
   },
   "source": [
    "### 1. What is the the most Popular Categories and Subcategories?"
   ]
  },
  {
   "cell_type": "markdown",
   "id": "f65f128d",
   "metadata": {
    "papermill": {
     "duration": 0.016423,
     "end_time": "2023-06-13T16:37:01.683726",
     "exception": false,
     "start_time": "2023-06-13T16:37:01.667303",
     "status": "completed"
    },
    "tags": []
   },
   "source": [
    "#### Calculating The Most Popular Categories"
   ]
  },
  {
   "cell_type": "code",
   "execution_count": 11,
   "id": "36651a72",
   "metadata": {
    "execution": {
     "iopub.execute_input": "2023-06-13T16:37:01.720856Z",
     "iopub.status.busy": "2023-06-13T16:37:01.720108Z",
     "iopub.status.idle": "2023-06-13T16:37:01.781830Z",
     "shell.execute_reply": "2023-06-13T16:37:01.780949Z"
    },
    "papermill": {
     "duration": 0.083761,
     "end_time": "2023-06-13T16:37:01.784379",
     "exception": false,
     "start_time": "2023-06-13T16:37:01.700618",
     "status": "completed"
    },
    "tags": []
   },
   "outputs": [],
   "source": [
    "def calculate_popular_categories(df: pd.DataFrame) -> pd.DataFrame:\n",
    "    \"\"\"\n",
    "    This function takes in a dataframe and calculates the number of courses \n",
    "    in each category and subcategory.\n",
    "    \"\"\"\n",
    "    # Calculate the total number of courses within each category and subcategory\n",
    "    category_counts = df.groupby([\"category\", \"subcategory\"]).size() \\\n",
    "                        .reset_index(name=\"count\")\n",
    "\n",
    "    # Sort the groups by the count in descending order\n",
    "    return category_counts.sort_values(by=\"count\", ascending=False) \\\n",
    "                          .reset_index(drop=True)\n",
    "\n",
    "\n",
    "# Calculating the most popular categories\n",
    "most_popular_categories = calculate_popular_categories(df_courses)"
   ]
  },
  {
   "cell_type": "code",
   "execution_count": 12,
   "id": "4847bfb0",
   "metadata": {
    "execution": {
     "iopub.execute_input": "2023-06-13T16:37:01.821067Z",
     "iopub.status.busy": "2023-06-13T16:37:01.820634Z",
     "iopub.status.idle": "2023-06-13T16:37:01.827951Z",
     "shell.execute_reply": "2023-06-13T16:37:01.826848Z"
    },
    "papermill": {
     "duration": 0.028965,
     "end_time": "2023-06-13T16:37:01.830252",
     "exception": false,
     "start_time": "2023-06-13T16:37:01.801287",
     "status": "completed"
    },
    "tags": []
   },
   "outputs": [],
   "source": [
    "# Getting the top five most popular categories\n",
    "top_five_categories = most_popular_categories[[\"category\", \"count\"]] \\\n",
    "                                             .drop_duplicates(\"category\")[:5]"
   ]
  },
  {
   "cell_type": "code",
   "execution_count": 13,
   "id": "ea7aecf9",
   "metadata": {
    "_kg_hide-input": true,
    "execution": {
     "iopub.execute_input": "2023-06-13T16:37:01.865601Z",
     "iopub.status.busy": "2023-06-13T16:37:01.865172Z",
     "iopub.status.idle": "2023-06-13T16:37:02.231939Z",
     "shell.execute_reply": "2023-06-13T16:37:02.230743Z"
    },
    "papermill": {
     "duration": 0.387465,
     "end_time": "2023-06-13T16:37:02.234524",
     "exception": false,
     "start_time": "2023-06-13T16:37:01.847059",
     "status": "completed"
    },
    "tags": []
   },
   "outputs": [
    {
     "data": {
      "image/png": "[encoded data removed]",
      "text/plain": [
       "<Figure size 1000x500 with 1 Axes>"
      ]
     },
     "metadata": {},
     "output_type": "display_data"
    }
   ],
   "source": [
    "# Setting the plot's figure size\n",
    "fig, ax = plt.subplots(figsize=(10, 5))\n",
    "\n",
    "# Plotting the bar chart\n",
    "sns.barplot(x=top_five_categories[\"count\"], y=top_five_categories[\"category\"],\n",
    "            palette=\"Blues_r\", ax=ax)\n",
    "\n",
    "# Adding text annotations to each bar showing the count of courses in each category\n",
    "for i, count in enumerate(top_five_categories[\"count\"]):\n",
    "    ax.annotate(f\"{count:,} Courses\", xy=(count, i), xytext=(count + 100, i),\n",
    "                ha=\"left\", va=\"center\")\n",
    "\n",
    "# Setting the title and axis labels\n",
    "ax.set_title(\"Top 5 Most Popular Udemy Courses Categories \", fontsize=15, pad=15)\n",
    "ax.set_xlabel(\"\")\n",
    "ax.set_ylabel(\"\")\n",
    "\n",
    "# Removing the x-axis & y-axis tick labels\n",
    "ax.set_xticklabels([])\n",
    "ax.set_xticklabels([])\n",
    "\n",
    "# Increasing the fontsize of the y-axis tick labels\n",
    "ax.tick_params(axis=\"y\", labelsize=11)\n",
    "\n",
    "# Removing spines from the plot\n",
    "sns.despine(bottom=True)\n",
    "\n",
    "# Showing the plot\n",
    "plt.show()"
   ]
  },
  {
   "cell_type": "markdown",
   "id": "4a5f5974",
   "metadata": {
    "papermill": {
     "duration": 0.017618,
     "end_time": "2023-06-13T16:37:02.269868",
     "exception": false,
     "start_time": "2023-06-13T16:37:02.252250",
     "status": "completed"
    },
    "tags": []
   },
   "source": [
    "#### Calculating The Most Popular SubCategories"
   ]
  },
  {
   "cell_type": "code",
   "execution_count": 14,
   "id": "58a8b0a9",
   "metadata": {
    "execution": {
     "iopub.execute_input": "2023-06-13T16:37:02.307202Z",
     "iopub.status.busy": "2023-06-13T16:37:02.306762Z",
     "iopub.status.idle": "2023-06-13T16:37:02.319545Z",
     "shell.execute_reply": "2023-06-13T16:37:02.318431Z"
    },
    "papermill": {
     "duration": 0.034499,
     "end_time": "2023-06-13T16:37:02.322135",
     "exception": false,
     "start_time": "2023-06-13T16:37:02.287636",
     "status": "completed"
    },
    "tags": []
   },
   "outputs": [
    {
     "data": {
      "text/html": [
       "<div>\n",
       "<style scoped>\n",
       "    .dataframe tbody tr th:only-of-type {\n",
       "        vertical-align: middle;\n",
       "    }\n",
       "\n",
       "    .dataframe tbody tr th {\n",
       "        vertical-align: top;\n",
       "    }\n",
       "\n",
       "    .dataframe thead th {\n",
       "        text-align: right;\n",
       "    }\n",
       "</style>\n",
       "<table border=\"1\" class=\"dataframe\">\n",
       "  <thead>\n",
       "    <tr style=\"text-align: right;\">\n",
       "      <th></th>\n",
       "      <th>subcategory</th>\n",
       "      <th>count</th>\n",
       "    </tr>\n",
       "  </thead>\n",
       "  <tbody>\n",
       "    <tr>\n",
       "      <th>0</th>\n",
       "      <td>Other IT &amp; Software</td>\n",
       "      <td>11523</td>\n",
       "    </tr>\n",
       "    <tr>\n",
       "      <th>1</th>\n",
       "      <td>Web Development</td>\n",
       "      <td>10393</td>\n",
       "    </tr>\n",
       "    <tr>\n",
       "      <th>2</th>\n",
       "      <td>IT Certifications</td>\n",
       "      <td>10337</td>\n",
       "    </tr>\n",
       "    <tr>\n",
       "      <th>3</th>\n",
       "      <td>Language Learning</td>\n",
       "      <td>7551</td>\n",
       "    </tr>\n",
       "    <tr>\n",
       "      <th>4</th>\n",
       "      <td>Programming Languages</td>\n",
       "      <td>7027</td>\n",
       "    </tr>\n",
       "  </tbody>\n",
       "</table>\n",
       "</div>"
      ],
      "text/plain": [
       "             subcategory  count\n",
       "0    Other IT & Software  11523\n",
       "1        Web Development  10393\n",
       "2      IT Certifications  10337\n",
       "3      Language Learning   7551\n",
       "4  Programming Languages   7027"
      ]
     },
     "execution_count": 14,
     "metadata": {},
     "output_type": "execute_result"
    }
   ],
   "source": [
    "# Getting the top five most popular subcategories\n",
    "top_five_subcategories = most_popular_categories[[\"subcategory\", \"count\"]] \\\n",
    "                                             .drop_duplicates(\"subcategory\")[:5]\n",
    "# Taking a look at the top five subcategories\n",
    "top_five_subcategories"
   ]
  },
  {
   "cell_type": "code",
   "execution_count": 15,
   "id": "cd5ae637",
   "metadata": {
    "_kg_hide-input": true,
    "execution": {
     "iopub.execute_input": "2023-06-13T16:37:02.364190Z",
     "iopub.status.busy": "2023-06-13T16:37:02.362957Z",
     "iopub.status.idle": "2023-06-13T16:37:02.704971Z",
     "shell.execute_reply": "2023-06-13T16:37:02.703852Z"
    },
    "papermill": {
     "duration": 0.367376,
     "end_time": "2023-06-13T16:37:02.707478",
     "exception": false,
     "start_time": "2023-06-13T16:37:02.340102",
     "status": "completed"
    },
    "tags": []
   },
   "outputs": [
    {
     "data": {
      "image/png": "[encoded data removed]",
      "text/plain": [
       "<Figure size 1000x500 with 1 Axes>"
      ]
     },
     "metadata": {},
     "output_type": "display_data"
    }
   ],
   "source": [
    "# Setting the plot's figure size\n",
    "fig, ax = plt.subplots(figsize=(10, 5))\n",
    "\n",
    "# Plotting the bar chart\n",
    "sns.barplot(x=top_five_subcategories[\"count\"], y=top_five_subcategories[\"subcategory\"],\n",
    "            palette=\"Blues_r\", ax=ax)\n",
    "\n",
    "# Adding text annotations to each bar showing the count of courses in each subcategory\n",
    "for i, count in enumerate(top_five_subcategories[\"count\"]):\n",
    "    ax.annotate(f\"{count:,} Courses\", xy=(count, i), xytext=(count + 100, i),\n",
    "                ha=\"left\", va=\"center\")\n",
    "\n",
    "# Setting the title and axis labels\n",
    "ax.set_title(\"Top 5 Most Popular Udemy Courses SubCategories\", fontsize=15, pad=15)\n",
    "ax.set_xlabel(\"\")\n",
    "ax.set_ylabel(\"\")\n",
    "\n",
    "# Removing the x-axis & y-axis tick labels\n",
    "ax.set_xticklabels([])\n",
    "ax.set_xticklabels([])\n",
    "\n",
    "# Increasing the fontsize of the y-axis tick labels\n",
    "ax.tick_params(axis=\"y\", labelsize=11)\n",
    "\n",
    "# Removing spines from the plot\n",
    "sns.despine(bottom=True)\n",
    "\n",
    "# Showing the plot\n",
    "plt.show()"
   ]
  },
  {
   "cell_type": "markdown",
   "id": "f59f39da",
   "metadata": {
    "papermill": {
     "duration": 0.01845,
     "end_time": "2023-06-13T16:37:02.744480",
     "exception": false,
     "start_time": "2023-06-13T16:37:02.726030",
     "status": "completed"
    },
    "tags": []
   },
   "source": [
    "---"
   ]
  },
  {
   "cell_type": "markdown",
   "id": "10be7da2",
   "metadata": {
    "papermill": {
     "duration": 0.018341,
     "end_time": "2023-06-13T16:37:02.781726",
     "exception": false,
     "start_time": "2023-06-13T16:37:02.763385",
     "status": "completed"
    },
    "tags": []
   },
   "source": [
    "### 1.1. What is the most Popular Course in each category?"
   ]
  },
  {
   "cell_type": "code",
   "execution_count": 16,
   "id": "c0c869d4",
   "metadata": {
    "execution": {
     "iopub.execute_input": "2023-06-13T16:37:02.822407Z",
     "iopub.status.busy": "2023-06-13T16:37:02.821722Z",
     "iopub.status.idle": "2023-06-13T16:37:02.827708Z",
     "shell.execute_reply": "2023-06-13T16:37:02.826929Z"
    },
    "papermill": {
     "duration": 0.028836,
     "end_time": "2023-06-13T16:37:02.830035",
     "exception": false,
     "start_time": "2023-06-13T16:37:02.801199",
     "status": "completed"
    },
    "tags": []
   },
   "outputs": [],
   "source": [
    "def find_most_popular_courses(df, popularity_metric=\"num_subscribers\", top_n=1):\n",
    "    \"\"\"\n",
    "    Find the most popular courses in a DataFrame, sorted by the specified popularity metric.\n",
    "    \"\"\"\n",
    "    \n",
    "    # Grouping the data by category and sort within each category based on popularity_metric\n",
    "    sorted_data = df.sort_values(by=popularity_metric, ascending=False).groupby(\"category\")\n",
    "\n",
    "    # Selecting the top N courses within each category\n",
    "    return sorted_data.head(top_n)"
   ]
  },
  {
   "cell_type": "code",
   "execution_count": 17,
   "id": "9656bb71",
   "metadata": {
    "execution": {
     "iopub.execute_input": "2023-06-13T16:37:02.869458Z",
     "iopub.status.busy": "2023-06-13T16:37:02.868767Z",
     "iopub.status.idle": "2023-06-13T16:37:03.136547Z",
     "shell.execute_reply": "2023-06-13T16:37:03.134870Z"
    },
    "papermill": {
     "duration": 0.291572,
     "end_time": "2023-06-13T16:37:03.140114",
     "exception": false,
     "start_time": "2023-06-13T16:37:02.848542",
     "status": "completed"
    },
    "tags": []
   },
   "outputs": [
    {
     "data": {
      "text/html": [
       "<div>\n",
       "<style scoped>\n",
       "    .dataframe tbody tr th:only-of-type {\n",
       "        vertical-align: middle;\n",
       "    }\n",
       "\n",
       "    .dataframe tbody tr th {\n",
       "        vertical-align: top;\n",
       "    }\n",
       "\n",
       "    .dataframe thead th {\n",
       "        text-align: right;\n",
       "    }\n",
       "</style>\n",
       "<table border=\"1\" class=\"dataframe\">\n",
       "  <thead>\n",
       "    <tr style=\"text-align: right;\">\n",
       "      <th></th>\n",
       "      <th>title</th>\n",
       "      <th>category</th>\n",
       "      <th>num_subscribers</th>\n",
       "    </tr>\n",
       "  </thead>\n",
       "  <tbody>\n",
       "    <tr>\n",
       "      <th>0</th>\n",
       "      <td>Java Tutorial for Complete Beginners</td>\n",
       "      <td>Development</td>\n",
       "      <td>1752364</td>\n",
       "    </tr>\n",
       "    <tr>\n",
       "      <th>1</th>\n",
       "      <td>Microsoft Excel - Excel from Beginner to Advanced</td>\n",
       "      <td>Office Productivity</td>\n",
       "      <td>1108811</td>\n",
       "    </tr>\n",
       "    <tr>\n",
       "      <th>2</th>\n",
       "      <td>The Complete Digital Marketing Course - 12 Courses in 1</td>\n",
       "      <td>Marketing</td>\n",
       "      <td>706339</td>\n",
       "    </tr>\n",
       "    <tr>\n",
       "      <th>3</th>\n",
       "      <td>Ultimate AWS Certified Solutions Architect Associate SAA-C03</td>\n",
       "      <td>IT &amp; Software</td>\n",
       "      <td>640699</td>\n",
       "    </tr>\n",
       "    <tr>\n",
       "      <th>4</th>\n",
       "      <td>The Complete SQL Bootcamp 2022: Go from Zero to Hero</td>\n",
       "      <td>Business</td>\n",
       "      <td>574046</td>\n",
       "    </tr>\n",
       "    <tr>\n",
       "      <th>5</th>\n",
       "      <td>Adobe Photoshop CC: A Beginner to Advanced Photoshop Course</td>\n",
       "      <td>Design</td>\n",
       "      <td>510784</td>\n",
       "    </tr>\n",
       "    <tr>\n",
       "      <th>6</th>\n",
       "      <td>Adobe Premiere Pro CC Masterclass: Video Editing in Premiere</td>\n",
       "      <td>Photography &amp; Video</td>\n",
       "      <td>436304</td>\n",
       "    </tr>\n",
       "    <tr>\n",
       "      <th>7</th>\n",
       "      <td>English Launch: Learn English for Free - Upgrade all areas</td>\n",
       "      <td>Teaching &amp; Academics</td>\n",
       "      <td>360861</td>\n",
       "    </tr>\n",
       "    <tr>\n",
       "      <th>8</th>\n",
       "      <td>The Complete Financial Analyst Course 2022</td>\n",
       "      <td>Finance &amp; Accounting</td>\n",
       "      <td>356765</td>\n",
       "    </tr>\n",
       "    <tr>\n",
       "      <th>9</th>\n",
       "      <td>Pianoforall - Incredible New Way To Learn Piano &amp; Keyboard</td>\n",
       "      <td>Music</td>\n",
       "      <td>355854</td>\n",
       "    </tr>\n",
       "    <tr>\n",
       "      <th>10</th>\n",
       "      <td>7 Scientifically Proven Steps to Increase Your Influence</td>\n",
       "      <td>Personal Development</td>\n",
       "      <td>309850</td>\n",
       "    </tr>\n",
       "    <tr>\n",
       "      <th>11</th>\n",
       "      <td>Reiki Level I, II and Master/Teacher Program</td>\n",
       "      <td>Lifestyle</td>\n",
       "      <td>168956</td>\n",
       "    </tr>\n",
       "    <tr>\n",
       "      <th>12</th>\n",
       "      <td>Cognitive Behavioural Therapy (CBT) Practitioner Course</td>\n",
       "      <td>Health &amp; Fitness</td>\n",
       "      <td>149943</td>\n",
       "    </tr>\n",
       "  </tbody>\n",
       "</table>\n",
       "</div>"
      ],
      "text/plain": [
       "                                                           title  \\\n",
       "0                           Java Tutorial for Complete Beginners   \n",
       "1              Microsoft Excel - Excel from Beginner to Advanced   \n",
       "2        The Complete Digital Marketing Course - 12 Courses in 1   \n",
       "3   Ultimate AWS Certified Solutions Architect Associate SAA-C03   \n",
       "4           The Complete SQL Bootcamp 2022: Go from Zero to Hero   \n",
       "5    Adobe Photoshop CC: A Beginner to Advanced Photoshop Course   \n",
       "6   Adobe Premiere Pro CC Masterclass: Video Editing in Premiere   \n",
       "7     English Launch: Learn English for Free - Upgrade all areas   \n",
       "8                     The Complete Financial Analyst Course 2022   \n",
       "9     Pianoforall - Incredible New Way To Learn Piano & Keyboard   \n",
       "10      7 Scientifically Proven Steps to Increase Your Influence   \n",
       "11                  Reiki Level I, II and Master/Teacher Program   \n",
       "12       Cognitive Behavioural Therapy (CBT) Practitioner Course   \n",
       "\n",
       "                category  num_subscribers  \n",
       "0            Development          1752364  \n",
       "1    Office Productivity          1108811  \n",
       "2              Marketing           706339  \n",
       "3          IT & Software           640699  \n",
       "4               Business           574046  \n",
       "5                 Design           510784  \n",
       "6    Photography & Video           436304  \n",
       "7   Teaching & Academics           360861  \n",
       "8   Finance & Accounting           356765  \n",
       "9                  Music           355854  \n",
       "10  Personal Development           309850  \n",
       "11             Lifestyle           168956  \n",
       "12      Health & Fitness           149943  "
      ]
     },
     "execution_count": 17,
     "metadata": {},
     "output_type": "execute_result"
    }
   ],
   "source": [
    "# Using the `find_most_popular_courses` function to get the most popular courses\n",
    "most_popular_courses_df = find_most_popular_courses(df_courses)\n",
    "\n",
    "# Showing the most popular courses and their \"title\", \"category\" and \"num_subscribers\"\n",
    "most_popular_courses_df[[\"title\",\"category\", \"num_subscribers\"]].reset_index(drop=True) \\\n",
    "                                                                .sort_values(\"num_subscribers\",\n",
    "                                                                             ascending=False)"
   ]
  },
  {
   "cell_type": "markdown",
   "id": "41b2dccf",
   "metadata": {
    "papermill": {
     "duration": 0.020242,
     "end_time": "2023-06-13T16:37:03.181144",
     "exception": false,
     "start_time": "2023-06-13T16:37:03.160902",
     "status": "completed"
    },
    "tags": []
   },
   "source": [
    "---"
   ]
  },
  {
   "cell_type": "markdown",
   "id": "8705e627",
   "metadata": {
    "papermill": {
     "duration": 0.018874,
     "end_time": "2023-06-13T16:37:03.219284",
     "exception": false,
     "start_time": "2023-06-13T16:37:03.200410",
     "status": "completed"
    },
    "tags": []
   },
   "source": [
    "## 2. Pricing Analysis "
   ]
  },
  {
   "cell_type": "markdown",
   "id": "4b1b4ca3",
   "metadata": {
    "papermill": {
     "duration": 0.018989,
     "end_time": "2023-06-13T16:37:03.257603",
     "exception": false,
     "start_time": "2023-06-13T16:37:03.238614",
     "status": "completed"
    },
    "tags": []
   },
   "source": [
    "### 2.1 What is the distribution of courses price?"
   ]
  },
  {
   "cell_type": "code",
   "execution_count": 18,
   "id": "6b00a6ea",
   "metadata": {
    "_kg_hide-input": true,
    "execution": {
     "iopub.execute_input": "2023-06-13T16:37:03.298123Z",
     "iopub.status.busy": "2023-06-13T16:37:03.297721Z",
     "iopub.status.idle": "2023-06-13T16:37:03.949836Z",
     "shell.execute_reply": "2023-06-13T16:37:03.948482Z"
    },
    "papermill": {
     "duration": 0.675655,
     "end_time": "2023-06-13T16:37:03.952571",
     "exception": false,
     "start_time": "2023-06-13T16:37:03.276916",
     "status": "completed"
    },
    "tags": []
   },
   "outputs": [
    {
     "data": {
      "image/png": "[encoded data removed]",
      "text/plain": [
       "<Figure size 1000x500 with 1 Axes>"
      ]
     },
     "metadata": {},
     "output_type": "display_data"
    }
   ],
   "source": [
    "# Assuming you have already loaded your dataset into a dataframe called \"df\"\n",
    "priced_courses = df_courses[df_courses[\"price\"] > 0]\n",
    "\n",
    "# Setting the plot's figure size\n",
    "fig, ax = plt.subplots(figsize=(10, 5))\n",
    "\n",
    "sns.histplot(data=priced_courses, x=\"price\", bins=50, edgecolor=\"black\", ax=ax)\n",
    "\n",
    "# Setting the title and axis labels\n",
    "ax.set_title(\"The Distribution of Course Prices\", fontsize=15, pad=15)\n",
    "ax.set_xlabel(\"Price\", fontsize=15, labelpad=15)\n",
    "ax.set_ylabel(\"Frequency\", fontsize=15, labelpad=15)\n",
    "\n",
    "# Removing spines from the plot\n",
    "sns.despine()\n",
    "\n",
    "# Showing the plot\n",
    "plt.show()"
   ]
  },
  {
   "cell_type": "markdown",
   "id": "eac7c7b5",
   "metadata": {
    "papermill": {
     "duration": 0.019323,
     "end_time": "2023-06-13T16:37:03.992347",
     "exception": false,
     "start_time": "2023-06-13T16:37:03.973024",
     "status": "completed"
    },
    "tags": []
   },
   "source": [
    "> The majority of courses are priced below 200 dollars, with a significant portion of them being offered for free. The number of courses significant decreases when moving past 200 dollars with only a couple of courses further the distribution on the 800 and 1000 dollars."
   ]
  },
  {
   "cell_type": "markdown",
   "id": "3e069bf0",
   "metadata": {
    "papermill": {
     "duration": 0.019202,
     "end_time": "2023-06-13T16:37:04.031120",
     "exception": false,
     "start_time": "2023-06-13T16:37:04.011918",
     "status": "completed"
    },
    "tags": []
   },
   "source": [
    "### 2.2. What is the percetange of courses that are priced below 200$ on udemy?"
   ]
  },
  {
   "cell_type": "code",
   "execution_count": 19,
   "id": "1aa76149",
   "metadata": {
    "_kg_hide-input": true,
    "execution": {
     "iopub.execute_input": "2023-06-13T16:37:04.072544Z",
     "iopub.status.busy": "2023-06-13T16:37:04.072159Z",
     "iopub.status.idle": "2023-06-13T16:37:04.372400Z",
     "shell.execute_reply": "2023-06-13T16:37:04.371051Z"
    },
    "papermill": {
     "duration": 0.324602,
     "end_time": "2023-06-13T16:37:04.375407",
     "exception": false,
     "start_time": "2023-06-13T16:37:04.050805",
     "status": "completed"
    },
    "tags": []
   },
   "outputs": [
    {
     "data": {
      "image/png": "[encoded data removed]",
      "text/plain": [
       "<Figure size 1000x500 with 1 Axes>"
      ]
     },
     "metadata": {},
     "output_type": "display_data"
    }
   ],
   "source": [
    "# Calculating the count of courses priced below and above 200\n",
    "below_200_count = len(df_courses[df_courses[\"price\"] < 200])\n",
    "above_200_count = len(df_courses[df_courses[\"price\"] >= 200])\n",
    "\n",
    "# Calculating the percentage of courses priced below and above 200\n",
    "total_count = below_200_count + above_200_count\n",
    "below_200_percentage = (below_200_count / total_count) * 100\n",
    "above_200_percentage = (above_200_count / total_count) * 100\n",
    "\n",
    "# Creating a dataframe for the percentages\n",
    "percentage_data = pd.DataFrame({\"Price Range\": [\"Below $200\", \"Above $200\"],\n",
    "                                \"Percentage\": [below_200_percentage, above_200_percentage]})\n",
    "\n",
    "# Setting the plot's figure size\n",
    "fig, ax = plt.subplots(figsize=(10, 5))\n",
    "\n",
    "# Plotting the bar chart using Seaborn\n",
    "sns.barplot(data=percentage_data, x=\"Price Range\", y=\"Percentage\")\n",
    "\n",
    "# Adding percentage annotations with increased font size and bold\n",
    "for i, percentage in enumerate(percentage_data[\"Percentage\"]):\n",
    "    ax.annotate(f\"{percentage:.1f}%\", xy=(i, percentage), xytext=(0, 5),\n",
    "                textcoords=\"offset points\", ha=\"center\", va=\"bottom\", fontsize=15)\n",
    "    \n",
    "# Setting the title and axis labels\n",
    "ax.set_title(\"Percentage of Courses Priced Below and Above $200\", fontsize=15, pad=30)\n",
    "ax.set_xlabel(\"\")\n",
    "ax.set_ylabel(\"\")\n",
    "\n",
    "# Removing the Y-axis tick labels\n",
    "ax.set_yticklabels([])\n",
    "\n",
    "# Increasing the fontsize of the y-axis tick labels\n",
    "ax.tick_params(axis=\"x\", labelsize=15)\n",
    "\n",
    "# Removing spines from the plot\n",
    "sns.despine(left=True)\n",
    "\n",
    "# Showing the plot\n",
    "plt.show()"
   ]
  },
  {
   "cell_type": "markdown",
   "id": "9e2270be",
   "metadata": {
    "papermill": {
     "duration": 0.019936,
     "end_time": "2023-06-13T16:37:04.415861",
     "exception": false,
     "start_time": "2023-06-13T16:37:04.395925",
     "status": "completed"
    },
    "tags": []
   },
   "source": [
    "---"
   ]
  },
  {
   "cell_type": "markdown",
   "id": "498305ae",
   "metadata": {
    "papermill": {
     "duration": 0.020325,
     "end_time": "2023-06-13T16:37:04.457613",
     "exception": false,
     "start_time": "2023-06-13T16:37:04.437288",
     "status": "completed"
    },
    "tags": []
   },
   "source": [
    "## 3. Instructor Performance"
   ]
  },
  {
   "cell_type": "markdown",
   "id": "8c0c951a",
   "metadata": {
    "papermill": {
     "duration": 0.019692,
     "end_time": "2023-06-13T16:37:04.497329",
     "exception": false,
     "start_time": "2023-06-13T16:37:04.477637",
     "status": "completed"
    },
    "tags": []
   },
   "source": [
    "### 3.1. Who are the top 5 most performing instructors according to the number of subscribers?"
   ]
  },
  {
   "cell_type": "code",
   "execution_count": 20,
   "id": "f5704345",
   "metadata": {
    "execution": {
     "iopub.execute_input": "2023-06-13T16:37:04.539598Z",
     "iopub.status.busy": "2023-06-13T16:37:04.539201Z",
     "iopub.status.idle": "2023-06-13T16:37:04.764423Z",
     "shell.execute_reply": "2023-06-13T16:37:04.763261Z"
    },
    "papermill": {
     "duration": 0.249802,
     "end_time": "2023-06-13T16:37:04.767285",
     "exception": false,
     "start_time": "2023-06-13T16:37:04.517483",
     "status": "completed"
    },
    "tags": []
   },
   "outputs": [],
   "source": [
    "# Grouping the dataframe by instructor name and calculate the total number of subscribers for each instructor\n",
    "instructor_subscriber_counts = df_courses.groupby(\"instructor_name\")[\"num_subscribers\"].sum()\n",
    "\n",
    "# Sorting the instructor subscriber counts in descending order\n",
    "sorted_instructor_subscribers = instructor_subscriber_counts.sort_values(ascending=False)"
   ]
  },
  {
   "cell_type": "code",
   "execution_count": 21,
   "id": "94a1a719",
   "metadata": {
    "_kg_hide-input": true,
    "execution": {
     "iopub.execute_input": "2023-06-13T16:37:04.810629Z",
     "iopub.status.busy": "2023-06-13T16:37:04.810178Z",
     "iopub.status.idle": "2023-06-13T16:37:05.149911Z",
     "shell.execute_reply": "2023-06-13T16:37:05.149045Z"
    },
    "papermill": {
     "duration": 0.364798,
     "end_time": "2023-06-13T16:37:05.152267",
     "exception": false,
     "start_time": "2023-06-13T16:37:04.787469",
     "status": "completed"
    },
    "tags": []
   },
   "outputs": [
    {
     "data": {
      "image/png": "[encoded data removed]",
      "text/plain": [
       "<Figure size 1000x500 with 1 Axes>"
      ]
     },
     "metadata": {},
     "output_type": "display_data"
    }
   ],
   "source": [
    "# Setting the plot's figure size\n",
    "fig, ax = plt.subplots(figsize=(10, 5))\n",
    "\n",
    "top_five_instructors = sorted_instructor_subscribers[:5]\n",
    "\n",
    "# Plotting the bar chart\n",
    "sns.barplot(y=top_five_instructors.values, x=top_five_instructors.index, palette=\"Blues_r\", ax=ax)\n",
    "\n",
    "# Adding percentage annotations with increased font size and bold\n",
    "for i, count in enumerate(top_five_instructors.values):\n",
    "    ax.annotate(f\"{count:,} Subscribers\", xy=(i, count), xytext=(0, 5),\n",
    "                textcoords=\"offset points\", ha=\"center\", va=\"bottom\", fontsize=8.5)\n",
    "\n",
    "# Setting the title and axis labels\n",
    "ax.set_title(\"The Top Most 5 Performing Instructors By Subscribers\", fontsize=15, pad=20)\n",
    "ax.set_xlabel(\"\")\n",
    "ax.set_ylabel(\"\")\n",
    "\n",
    "# Removing the y-axis tick labels\n",
    "ax.set_yticklabels([])\n",
    "\n",
    "# Removing spines from the plot\n",
    "sns.despine(left=True)\n",
    "\n",
    "# Showing the plot\n",
    "plt.show()"
   ]
  },
  {
   "cell_type": "markdown",
   "id": "a2281a28",
   "metadata": {
    "papermill": {
     "duration": 0.020623,
     "end_time": "2023-06-13T16:37:05.194445",
     "exception": false,
     "start_time": "2023-06-13T16:37:05.173822",
     "status": "completed"
    },
    "tags": []
   },
   "source": [
    "### 3.2. Who are the top most 5 experienced instructors in terms of (Courses published  on Udemy)?"
   ]
  },
  {
   "cell_type": "code",
   "execution_count": 22,
   "id": "2181e36b",
   "metadata": {
    "execution": {
     "iopub.execute_input": "2023-06-13T16:37:05.239801Z",
     "iopub.status.busy": "2023-06-13T16:37:05.238620Z",
     "iopub.status.idle": "2023-06-13T16:37:05.473002Z",
     "shell.execute_reply": "2023-06-13T16:37:05.471824Z"
    },
    "papermill": {
     "duration": 0.260319,
     "end_time": "2023-06-13T16:37:05.475759",
     "exception": false,
     "start_time": "2023-06-13T16:37:05.215440",
     "status": "completed"
    },
    "tags": []
   },
   "outputs": [
    {
     "data": {
      "text/html": [
       "<div>\n",
       "<style scoped>\n",
       "    .dataframe tbody tr th:only-of-type {\n",
       "        vertical-align: middle;\n",
       "    }\n",
       "\n",
       "    .dataframe tbody tr th {\n",
       "        vertical-align: top;\n",
       "    }\n",
       "\n",
       "    .dataframe thead th {\n",
       "        text-align: right;\n",
       "    }\n",
       "</style>\n",
       "<table border=\"1\" class=\"dataframe\">\n",
       "  <thead>\n",
       "    <tr style=\"text-align: right;\">\n",
       "      <th></th>\n",
       "      <th>instructor_name</th>\n",
       "      <th>num_courses</th>\n",
       "    </tr>\n",
       "  </thead>\n",
       "  <tbody>\n",
       "    <tr>\n",
       "      <th>0</th>\n",
       "      <td>Packt Publishing</td>\n",
       "      <td>1254</td>\n",
       "    </tr>\n",
       "    <tr>\n",
       "      <th>1</th>\n",
       "      <td>Bluelime Learning Solutions</td>\n",
       "      <td>422</td>\n",
       "    </tr>\n",
       "    <tr>\n",
       "      <th>2</th>\n",
       "      <td>Illumeo Learning</td>\n",
       "      <td>410</td>\n",
       "    </tr>\n",
       "    <tr>\n",
       "      <th>3</th>\n",
       "      <td>Laurence Svekis</td>\n",
       "      <td>327</td>\n",
       "    </tr>\n",
       "    <tr>\n",
       "      <th>4</th>\n",
       "      <td>Infinite Skills</td>\n",
       "      <td>323</td>\n",
       "    </tr>\n",
       "  </tbody>\n",
       "</table>\n",
       "</div>"
      ],
      "text/plain": [
       "               instructor_name  num_courses\n",
       "0             Packt Publishing         1254\n",
       "1  Bluelime Learning Solutions          422\n",
       "2             Illumeo Learning          410\n",
       "3              Laurence Svekis          327\n",
       "4              Infinite Skills          323"
      ]
     },
     "execution_count": 22,
     "metadata": {},
     "output_type": "execute_result"
    }
   ],
   "source": [
    "# Grouping the dataframe by instructor name and calculate the number of courses taught by each instructor\n",
    "instructor_experience = df_courses.groupby(\"instructor_name\")[\"id\"].count().reset_index()\n",
    "\n",
    "# Renaming the id column to num_courses\n",
    "instructor_experience = instructor_experience.rename(columns={\"id\": \"num_courses\"})\n",
    "\n",
    "# Sorting the dataframe by the descending order to get the topmost 5 experienced instructors\n",
    "instructor_experience.sort_values(\"num_courses\", ascending=False).reset_index(drop=True)[:5]"
   ]
  },
  {
   "cell_type": "markdown",
   "id": "4f3239e0",
   "metadata": {
    "papermill": {
     "duration": 0.021582,
     "end_time": "2023-06-13T16:37:05.519341",
     "exception": false,
     "start_time": "2023-06-13T16:37:05.497759",
     "status": "completed"
    },
    "tags": []
   },
   "source": [
    "---"
   ]
  },
  {
   "cell_type": "markdown",
   "id": "749a10e3",
   "metadata": {
    "papermill": {
     "duration": 0.020783,
     "end_time": "2023-06-13T16:37:05.561497",
     "exception": false,
     "start_time": "2023-06-13T16:37:05.540714",
     "status": "completed"
    },
    "tags": []
   },
   "source": [
    "## 4. Time Analysis"
   ]
  },
  {
   "cell_type": "markdown",
   "id": "471c21cc",
   "metadata": {
    "papermill": {
     "duration": 0.021176,
     "end_time": "2023-06-13T16:37:05.603504",
     "exception": false,
     "start_time": "2023-06-13T16:37:05.582328",
     "status": "completed"
    },
    "tags": []
   },
   "source": [
    "### 4.1 How was the growth of Subscribers over Time on Udemy?"
   ]
  },
  {
   "cell_type": "code",
   "execution_count": 23,
   "id": "62b528d9",
   "metadata": {
    "execution": {
     "iopub.execute_input": "2023-06-13T16:37:05.648311Z",
     "iopub.status.busy": "2023-06-13T16:37:05.647466Z",
     "iopub.status.idle": "2023-06-13T16:37:05.767449Z",
     "shell.execute_reply": "2023-06-13T16:37:05.766275Z"
    },
    "papermill": {
     "duration": 0.145629,
     "end_time": "2023-06-13T16:37:05.770467",
     "exception": false,
     "start_time": "2023-06-13T16:37:05.624838",
     "status": "completed"
    },
    "tags": []
   },
   "outputs": [],
   "source": [
    "# Set the \"published_time\" column as the index\n",
    "df_time = df_courses.set_index(\"published_time\")\n",
    "# Resample the data to a monthly frequency and calculate the sum of subscribers for each month\n",
    "monthly_subscribers = df_time[\"num_subscribers\"].resample(\"M\").sum()"
   ]
  },
  {
   "cell_type": "code",
   "execution_count": 24,
   "id": "7401ca4a",
   "metadata": {
    "_kg_hide-input": true,
    "execution": {
     "iopub.execute_input": "2023-06-13T16:37:05.814995Z",
     "iopub.status.busy": "2023-06-13T16:37:05.814553Z",
     "iopub.status.idle": "2023-06-13T16:37:06.493546Z",
     "shell.execute_reply": "2023-06-13T16:37:06.492363Z"
    },
    "papermill": {
     "duration": 0.704674,
     "end_time": "2023-06-13T16:37:06.496425",
     "exception": false,
     "start_time": "2023-06-13T16:37:05.791751",
     "status": "completed"
    },
    "tags": []
   },
   "outputs": [
    {
     "data": {
      "image/png": "[encoded data removed]",
      "text/plain": [
       "<Figure size 1000x500 with 1 Axes>"
      ]
     },
     "metadata": {},
     "output_type": "display_data"
    }
   ],
   "source": [
    "# Setting the plot's figure size\n",
    "fig, ax = plt.subplots(figsize=(10, 5))\n",
    "\n",
    "# Plotting the line plot using seaborn\n",
    "sns.lineplot(x=monthly_subscribers.index, y=monthly_subscribers.values)\n",
    "\n",
    "# Set the title and axis labels\n",
    "ax.set_title(\"Growth of Subscribers over Time\", fontsize=15, pad=15)\n",
    "ax.set_ylabel(\"Number of Subscribers\", fontsize=12, labelpad=15)\n",
    "ax.set_xlabel(\"\")\n",
    "\n",
    "# Remove spines from the plot\n",
    "sns.despine()\n",
    "\n",
    "# Show the plot\n",
    "plt.show()"
   ]
  },
  {
   "cell_type": "markdown",
   "id": "f27391fd",
   "metadata": {
    "papermill": {
     "duration": 0.022026,
     "end_time": "2023-06-13T16:37:06.540703",
     "exception": false,
     "start_time": "2023-06-13T16:37:06.518677",
     "status": "completed"
    },
    "tags": []
   },
   "source": [
    "> The analysis of the subscriber growth trend reveals a consistent upward trajectory starting from early 2013, peaking in 2020, and subsequently experiencing a significant decline in early 2021. This observation highlights a substantial surge in subscriber numbers over the years, followed by a notable contraction in the most recent period."
   ]
  },
  {
   "cell_type": "markdown",
   "id": "d327a16f",
   "metadata": {
    "papermill": {
     "duration": 0.022331,
     "end_time": "2023-06-13T16:37:06.585328",
     "exception": false,
     "start_time": "2023-06-13T16:37:06.562997",
     "status": "completed"
    },
    "tags": []
   },
   "source": [
    "### 4.2 What was the year that had the most subsribers?"
   ]
  },
  {
   "cell_type": "code",
   "execution_count": 25,
   "id": "02546fdd",
   "metadata": {
    "execution": {
     "iopub.execute_input": "2023-06-13T16:37:06.632101Z",
     "iopub.status.busy": "2023-06-13T16:37:06.631336Z",
     "iopub.status.idle": "2023-06-13T16:37:06.685372Z",
     "shell.execute_reply": "2023-06-13T16:37:06.683852Z"
    },
    "papermill": {
     "duration": 0.080921,
     "end_time": "2023-06-13T16:37:06.688445",
     "exception": false,
     "start_time": "2023-06-13T16:37:06.607524",
     "status": "completed"
    },
    "tags": []
   },
   "outputs": [],
   "source": [
    "# Extracting the year from the \"published_time\" column\n",
    "df_year = df_courses.copy()\n",
    "df_year[\"year\"] = df_year[\"published_time\"].dt.year\n",
    "\n",
    "# Calculating the total subscribers for each year\n",
    "yearly_subscribers = df_year.groupby(\"year\")[\"num_subscribers\"].sum().reset_index() "
   ]
  },
  {
   "cell_type": "code",
   "execution_count": 26,
   "id": "5eba11c0",
   "metadata": {
    "_kg_hide-input": true,
    "execution": {
     "iopub.execute_input": "2023-06-13T16:37:06.735081Z",
     "iopub.status.busy": "2023-06-13T16:37:06.734644Z",
     "iopub.status.idle": "2023-06-13T16:37:07.238664Z",
     "shell.execute_reply": "2023-06-13T16:37:07.237548Z"
    },
    "papermill": {
     "duration": 0.530253,
     "end_time": "2023-06-13T16:37:07.241084",
     "exception": false,
     "start_time": "2023-06-13T16:37:06.710831",
     "status": "completed"
    },
    "tags": []
   },
   "outputs": [
    {
     "data": {
      "image/png": "[encoded data removed]",
      "text/plain": [
       "<Figure size 1500x500 with 1 Axes>"
      ]
     },
     "metadata": {},
     "output_type": "display_data"
    }
   ],
   "source": [
    "# Setting the plot's figure size\n",
    "fig, ax = plt.subplots(figsize=(15, 5))\n",
    "\n",
    "# Plotting the bar chart with all bars gray\n",
    "sns.barplot(x=yearly_subscribers[\"year\"], y=yearly_subscribers[\"num_subscribers\"], color=\"lightgray\", ax=ax)\n",
    "\n",
    "# Finding the index of the highest number of subscribers\n",
    "max_subscribers_index = yearly_subscribers[\"num_subscribers\"].idxmax()\n",
    "\n",
    "# Highlighting the bar with the highest number of subscribers in steelblue\n",
    "ax.patches[max_subscribers_index].set_facecolor(\"steelblue\")\n",
    "\n",
    "# Adding percentage annotations with increased font size and bold\n",
    "for i, count in enumerate(yearly_subscribers[\"num_subscribers\"]):\n",
    "    ax.annotate(f\"{count:,}\", xy=(i, count), xytext=(0, 5),\n",
    "                textcoords=\"offset points\", ha=\"center\", va=\"bottom\", fontsize=8, \n",
    "                fontweight=\"bold\" if i == max_subscribers_index else \"normal\")\n",
    "\n",
    "# Setting the title and axis labels\n",
    "ax.set_title(\"Yearly Subscribers\", fontsize=15, pad=20)\n",
    "ax.set_xlabel(\"\")\n",
    "ax.set_ylabel(\"\")\n",
    "\n",
    "# Removing the y-axis tick labels\n",
    "ax.set_yticklabels([])\n",
    "\n",
    "# Removing spines from the plot\n",
    "sns.despine(left=True)\n",
    "\n",
    "# Showing the plot\n",
    "plt.show()"
   ]
  },
  {
   "cell_type": "markdown",
   "id": "c2728ec7",
   "metadata": {
    "id": "dHPOHyb8mzge",
    "papermill": {
     "duration": 0.023287,
     "end_time": "2023-06-13T16:37:07.286853",
     "exception": false,
     "start_time": "2023-06-13T16:37:07.263566",
     "status": "completed"
    },
    "tags": []
   },
   "source": [
    "# Conclusion\n",
    "\n",
    "The analysis of the Udemy Courses Comments dataset highlights key insights. IT & Software, Development, Teaching & Academics, Personal Development, and Business emerged as popular course categories. Subcategories like Other IT & Web Development, IT Certifications, Language Learning, and Programming Languages also gained traction. \n",
    "\n",
    "The \"Java Tutorial for Complete Beginners\" course in the Development category had the highest number of subscribers (1,752,367).\n",
    "\n",
    "Approximately 94.4% of courses are priced below 200 dollars, indicating affordability and accessibility. Top-performing instructors by subscriber count include Learn Tech Plus, TJ Walker, Phil Ebiner, YouAccel Tanning, and Star-Tech Academy. \n",
    "\n",
    "In terms of experience, Packet Publishing, Bluelime Learning Solutions, lllumeo Learning, Laurence Svekis, and Infinite Skills published the most courses.\n",
    "\n",
    "The time analysis reveals consistent subscriber growth, peaking in 2020 but declining in early 2021. Notably, 2020 had the highest number of subscribers, with approximately 120,730,813 users.\n",
    "\n",
    "These findings showcase the popularity of online learning, the diversity of course categories, and the influence of pricing, instructor performance, and temporal trends on user engagement. \n",
    "\n",
    "These insights provide valuable information for Udemy and its stakeholders, emphasizing the platform's impact in facilitating accessible education and fostering a thriving online learning community.\n",
    "\n",
    "\n",
    "## Findings Summary\n",
    "\n",
    "1. IT & software, Development, Teaching & Academics, Personal Development and Business are the most popular courses categories on Udemy.\n",
    "\n",
    "\n",
    "2. Other IT &, Web Development, IT Certifications, Language Learning and Programming Languages are the most popular courses subcategories on Udemy.\n",
    "\n",
    "\n",
    "3. Java Tutorial for Complete Beginners in the Development category in the most popular course in Udemy with 1,752,367 subscribers on Udemy.\n",
    "\n",
    "\n",
    "4. About 94.4% of courses are priced below 200 dollars.\n",
    "\n",
    "\n",
    "5. Learn Tech Plus, TJ Walker, Phil Ebiner, YouAccel Tanning and Star-Tech Academy are the topmost 5 performing instructors by subscribers on Udemy.\n",
    "\n",
    "\n",
    "6. Packet Publishing, Bluelime Learning Soultions, lllumeo Learning, Laurence Svekis and Infinite Skills are the top 5 most experienced instructors in term of number of courses published on Udemy. \n",
    "\n",
    "\n",
    "7. There is a consistent upward trajectory starting from early 2013, peaking in 2020, and subsequently experiencing a significant decline in early 2021.\n",
    "\n",
    "\n",
    "8. Year 2020 is the year that Udemy got the most subscribers in, about 120,730,813 users subscribed that year."
   ]
  },
  {
   "cell_type": "markdown",
   "id": "87622e53",
   "metadata": {
    "papermill": {
     "duration": 0.022632,
     "end_time": "2023-06-13T16:37:07.333248",
     "exception": false,
     "start_time": "2023-06-13T16:37:07.310616",
     "status": "completed"
    },
    "tags": []
   },
   "source": [
    "# Recommendations for Udemy Stockholders\n",
    "\n",
    "- Capitalize on the popularity of IT & Software, Development, Teaching & Academics, Personal Development, and Business categories by investing in targeted marketing campaigns to attract more learners to these high-demand courses.\n",
    "\n",
    "- Collaborate with instructors who have excelled in delivering courses in the most popular subcategories, such as Other IT & Web Development, IT Certifications, Language Learning, and Programming Languages, to create specialized programs and further expand the course offerings in these areas.\n",
    "\n",
    "- Analyze the pricing structure of courses priced below 200 dollars, which constitute the majority of courses, to ensure optimal revenue generation while maintaining affordability. Consider introducing pricing tiers or bundles to encourage learners to enroll in multiple courses.\n",
    "\n",
    "- Recognize and incentivize top-performing instructors, such as Learn Tech Plus, TJ Walker, Phil Ebiner, YouAccel Tanning, and Star-Tech Academy, by offering them opportunities to create exclusive content, collaborate on promotional activities, or participate in instructor development programs to further enhance the quality and reputation of the platform.\n",
    "\n",
    "- Capitalize on the strong growth observed in 2020, the year with the highest number of subscribers, by leveraging the marketing strategies and content trends that contributed to this success. Additionally, closely monitor the decline in early 2021 and investigate potential factors that may have impacted subscriber growth to devise strategies for recovery."
   ]
  }
 ],
 "metadata": {
  "kernelspec": {
   "display_name": "Python 3",
   "language": "python",
   "name": "python3"
  },
  "language_info": {
   "codemirror_mode": {
    "name": "ipython",
    "version": 3
   },
   "file_extension": ".py",
   "mimetype": "text/x-python",
   "name": "python",
   "nbconvert_exporter": "python",
   "pygments_lexer": "ipython3",
   "version": "3.10.10"
  },
  "papermill": {
   "default_parameters": {},
   "duration": 28.86705,
   "end_time": "2023-06-13T16:37:08.479990",
   "environment_variables": {},
   "exception": null,
   "input_path": "__notebook__.ipynb",
   "output_path": "__notebook__.ipynb",
   "parameters": {},
   "start_time": "2023-06-13T16:36:39.612940",
   "version": "2.4.0"
  }
 },
 "nbformat": 4,
 "nbformat_minor": 5
}
